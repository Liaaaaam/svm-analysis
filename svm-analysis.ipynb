{
 "cells": [
  {
   "cell_type": "markdown",
   "metadata": {},
   "source": [
    "Liam Campbell - May 2017"
   ]
  },
  {
   "cell_type": "markdown",
   "metadata": {},
   "source": [
    "# Support Vector Machine Analysis\n",
    "* In this notebook I'll use wholesale product data to train different SVMs to predict which sales channel a given vendor is a part of (Hotel/Restaurant/Cafe or Retail)\n",
    "* **Description of Data:** In a data set derived from N. Abreu, Analise do perfil do cliente Recheio e desenvolvimento de um sistema promocional, Mestrado em Marketing, ISCTE-IUL, Lisbon, 2011., the data consists of annual spending on different categories of products by each retailer, along with corresponding data on the sales channel (Hotel/Restaurant/Cafe = 1 vs. Retail = 2) and the region (Lisbon = 1, Oporto = 2, or Other = 3) of the retailer."
   ]
  },
  {
   "cell_type": "code",
   "execution_count": 70,
   "metadata": {
    "collapsed": true
   },
   "outputs": [],
   "source": [
    "import numpy as np\n",
    "import pandas as pd\n",
    "import sklearn\n",
    "from sklearn import preprocessing\n",
    "from sklearn import pipeline\n",
    "from sklearn import linear_model\n",
    "from sklearn import metrics\n",
    "from sklearn.model_selection import GridSearchCV\n",
    "from sklearn.model_selection import cross_val_score\n",
    "import requests\n",
    "import io\n",
    "import matplotlib.pyplot as plt\n",
    "import seaborn as sb"
   ]
  },
  {
   "cell_type": "markdown",
   "metadata": {},
   "source": [
    "## Load Data"
   ]
  },
  {
   "cell_type": "code",
   "execution_count": 71,
   "metadata": {},
   "outputs": [
    {
     "data": {
      "text/html": [
       "<div>\n",
       "<style>\n",
       "    .dataframe thead tr:only-child th {\n",
       "        text-align: right;\n",
       "    }\n",
       "\n",
       "    .dataframe thead th {\n",
       "        text-align: left;\n",
       "    }\n",
       "\n",
       "    .dataframe tbody tr th {\n",
       "        vertical-align: top;\n",
       "    }\n",
       "</style>\n",
       "<table border=\"1\" class=\"dataframe\">\n",
       "  <thead>\n",
       "    <tr style=\"text-align: right;\">\n",
       "      <th></th>\n",
       "      <th>Channel</th>\n",
       "      <th>Region</th>\n",
       "      <th>Fresh</th>\n",
       "      <th>Milk</th>\n",
       "      <th>Grocery</th>\n",
       "      <th>Frozen</th>\n",
       "      <th>Detergents_Paper</th>\n",
       "      <th>Delicassen</th>\n",
       "    </tr>\n",
       "  </thead>\n",
       "  <tbody>\n",
       "    <tr>\n",
       "      <th>0</th>\n",
       "      <td>2</td>\n",
       "      <td>3</td>\n",
       "      <td>12669</td>\n",
       "      <td>9656</td>\n",
       "      <td>7561</td>\n",
       "      <td>214</td>\n",
       "      <td>2674</td>\n",
       "      <td>1338</td>\n",
       "    </tr>\n",
       "    <tr>\n",
       "      <th>1</th>\n",
       "      <td>2</td>\n",
       "      <td>3</td>\n",
       "      <td>7057</td>\n",
       "      <td>9810</td>\n",
       "      <td>9568</td>\n",
       "      <td>1762</td>\n",
       "      <td>3293</td>\n",
       "      <td>1776</td>\n",
       "    </tr>\n",
       "    <tr>\n",
       "      <th>2</th>\n",
       "      <td>2</td>\n",
       "      <td>3</td>\n",
       "      <td>6353</td>\n",
       "      <td>8808</td>\n",
       "      <td>7684</td>\n",
       "      <td>2405</td>\n",
       "      <td>3516</td>\n",
       "      <td>7844</td>\n",
       "    </tr>\n",
       "    <tr>\n",
       "      <th>3</th>\n",
       "      <td>1</td>\n",
       "      <td>3</td>\n",
       "      <td>13265</td>\n",
       "      <td>1196</td>\n",
       "      <td>4221</td>\n",
       "      <td>6404</td>\n",
       "      <td>507</td>\n",
       "      <td>1788</td>\n",
       "    </tr>\n",
       "    <tr>\n",
       "      <th>4</th>\n",
       "      <td>2</td>\n",
       "      <td>3</td>\n",
       "      <td>22615</td>\n",
       "      <td>5410</td>\n",
       "      <td>7198</td>\n",
       "      <td>3915</td>\n",
       "      <td>1777</td>\n",
       "      <td>5185</td>\n",
       "    </tr>\n",
       "  </tbody>\n",
       "</table>\n",
       "</div>"
      ],
      "text/plain": [
       "   Channel  Region  Fresh  Milk  Grocery  Frozen  Detergents_Paper  Delicassen\n",
       "0        2       3  12669  9656     7561     214              2674        1338\n",
       "1        2       3   7057  9810     9568    1762              3293        1776\n",
       "2        2       3   6353  8808     7684    2405              3516        7844\n",
       "3        1       3  13265  1196     4221    6404               507        1788\n",
       "4        2       3  22615  5410     7198    3915              1777        5185"
      ]
     },
     "execution_count": 71,
     "metadata": {},
     "output_type": "execute_result"
    }
   ],
   "source": [
    "# Load data into dataframe\n",
    "url = 'http://ieor.berkeley.edu/~ieor165/homeworks/wholesale-customers.csv'\n",
    "df = pd.read_csv(url, sep=\",\")\n",
    "\n",
    "# Store data locally in case url dies\n",
    "df.to_csv('wholesale-customers.csv')\n",
    "df.head()"
   ]
  },
  {
   "cell_type": "markdown",
   "metadata": {},
   "source": [
    "## Data Preprocessing"
   ]
  },
  {
   "cell_type": "code",
   "execution_count": 72,
   "metadata": {},
   "outputs": [
    {
     "data": {
      "text/plain": [
       "0    298\n",
       "1    142\n",
       "Name: Channel, dtype: int64"
      ]
     },
     "execution_count": 72,
     "metadata": {},
     "output_type": "execute_result"
    }
   ],
   "source": [
    "# Use one-hot encoding to convert 'Region' column's string data to numeric form\n",
    "df = pd.get_dummies(df, columns=['Region'])\n",
    "\n",
    "# Convert 'Channel' column to binary for (1 --> 0 and 2 --> 1)\n",
    "df['Channel'] = df['Channel'].apply(lambda x: 0 if x == 1 else 1)\n",
    "\n",
    "# Check distribution of outcome data\n",
    "df.Channel.value_counts()"
   ]
  },
  {
   "cell_type": "code",
   "execution_count": 73,
   "metadata": {},
   "outputs": [
    {
     "data": {
      "text/plain": [
       "(440, 10)"
      ]
     },
     "execution_count": 73,
     "metadata": {},
     "output_type": "execute_result"
    }
   ],
   "source": [
    "# Shuffle the order of data points (by row)\n",
    "df = df.reindex(np.random.permutation(df.index))\n",
    "\n",
    "# Separate predictors and outcomes\n",
    "x = df.drop(['Channel'], axis=1)\n",
    "y = df.Channel\n",
    "\n",
    "# Normalize predictor data\n",
    "vals = x.values\n",
    "norm_scaler = preprocessing.MinMaxScaler()\n",
    "norm_vals = norm_scaler.fit_transform(vals)\n",
    "x = pd.DataFrame(norm_vals)\n",
    "x = x.rename(index=str, columns={0: 'Fresh', 1: 'Milk', 2: 'Grocery',3: 'Frozen', 4: 'Detergents_Paper',\n",
    "                                 5: 'Delicassen', 6: 'Lisbon', 7: 'Oporto', 8: 'Other'})\n",
    "#[u'Fresh', u'Milk', u'Grocery', u'Frozen', u'Detergents_Paper', u'Delicassen', u'Lisbon', u'Oporto', u'Other'])\n",
    "\n",
    "# Check size of data set\n",
    "df.shape"
   ]
  },
  {
   "cell_type": "code",
   "execution_count": 74,
   "metadata": {},
   "outputs": [
    {
     "data": {
      "text/html": [
       "<div>\n",
       "<style>\n",
       "    .dataframe thead tr:only-child th {\n",
       "        text-align: right;\n",
       "    }\n",
       "\n",
       "    .dataframe thead th {\n",
       "        text-align: left;\n",
       "    }\n",
       "\n",
       "    .dataframe tbody tr th {\n",
       "        vertical-align: top;\n",
       "    }\n",
       "</style>\n",
       "<table border=\"1\" class=\"dataframe\">\n",
       "  <thead>\n",
       "    <tr style=\"text-align: right;\">\n",
       "      <th></th>\n",
       "      <th>Fresh</th>\n",
       "      <th>Milk</th>\n",
       "      <th>Grocery</th>\n",
       "      <th>Frozen</th>\n",
       "      <th>Detergents_Paper</th>\n",
       "      <th>Delicassen</th>\n",
       "      <th>Lisbon</th>\n",
       "      <th>Oporto</th>\n",
       "      <th>Other</th>\n",
       "    </tr>\n",
       "  </thead>\n",
       "  <tbody>\n",
       "    <tr>\n",
       "      <th>0</th>\n",
       "      <td>0.085227</td>\n",
       "      <td>0.029438</td>\n",
       "      <td>0.017903</td>\n",
       "      <td>0.018868</td>\n",
       "      <td>0.005364</td>\n",
       "      <td>0.009262</td>\n",
       "      <td>0.0</td>\n",
       "      <td>0.0</td>\n",
       "      <td>1.0</td>\n",
       "    </tr>\n",
       "    <tr>\n",
       "      <th>1</th>\n",
       "      <td>0.029987</td>\n",
       "      <td>0.072818</td>\n",
       "      <td>0.139808</td>\n",
       "      <td>0.071905</td>\n",
       "      <td>0.146335</td>\n",
       "      <td>0.036316</td>\n",
       "      <td>0.0</td>\n",
       "      <td>0.0</td>\n",
       "      <td>1.0</td>\n",
       "    </tr>\n",
       "    <tr>\n",
       "      <th>2</th>\n",
       "      <td>0.001667</td>\n",
       "      <td>0.009150</td>\n",
       "      <td>0.021654</td>\n",
       "      <td>0.003616</td>\n",
       "      <td>0.004434</td>\n",
       "      <td>0.002587</td>\n",
       "      <td>0.0</td>\n",
       "      <td>0.0</td>\n",
       "      <td>1.0</td>\n",
       "    </tr>\n",
       "    <tr>\n",
       "      <th>3</th>\n",
       "      <td>0.474391</td>\n",
       "      <td>0.066773</td>\n",
       "      <td>0.079039</td>\n",
       "      <td>0.049093</td>\n",
       "      <td>0.023614</td>\n",
       "      <td>0.017000</td>\n",
       "      <td>1.0</td>\n",
       "      <td>0.0</td>\n",
       "      <td>0.0</td>\n",
       "    </tr>\n",
       "    <tr>\n",
       "      <th>4</th>\n",
       "      <td>0.062435</td>\n",
       "      <td>0.010539</td>\n",
       "      <td>0.032400</td>\n",
       "      <td>0.006656</td>\n",
       "      <td>0.014869</td>\n",
       "      <td>0.010972</td>\n",
       "      <td>0.0</td>\n",
       "      <td>0.0</td>\n",
       "      <td>1.0</td>\n",
       "    </tr>\n",
       "  </tbody>\n",
       "</table>\n",
       "</div>"
      ],
      "text/plain": [
       "      Fresh      Milk   Grocery    Frozen  Detergents_Paper  Delicassen  \\\n",
       "0  0.085227  0.029438  0.017903  0.018868          0.005364    0.009262   \n",
       "1  0.029987  0.072818  0.139808  0.071905          0.146335    0.036316   \n",
       "2  0.001667  0.009150  0.021654  0.003616          0.004434    0.002587   \n",
       "3  0.474391  0.066773  0.079039  0.049093          0.023614    0.017000   \n",
       "4  0.062435  0.010539  0.032400  0.006656          0.014869    0.010972   \n",
       "\n",
       "   Lisbon  Oporto  Other  \n",
       "0     0.0     0.0    1.0  \n",
       "1     0.0     0.0    1.0  \n",
       "2     0.0     0.0    1.0  \n",
       "3     1.0     0.0    0.0  \n",
       "4     0.0     0.0    1.0  "
      ]
     },
     "execution_count": 74,
     "metadata": {},
     "output_type": "execute_result"
    }
   ],
   "source": [
    "# Split data into training and testing sets\n",
    "x_train = x[:340]\n",
    "x_test = x[340:]\n",
    "y_train = y[:340]\n",
    "y_test = y[340:]\n",
    "\n",
    "# Create a scaler for standardization of data and standardize predictor data\n",
    "# ONLY FOR USE IF NECESSARY, WILL NOT USE TO TRAIN AND TEST\n",
    "scaler = preprocessing.StandardScaler().fit(x_train)\n",
    "x_train_std = scaler.transform(x_train)\n",
    "x_test_std = scaler.transform(x_test)\n",
    "x_train.head()"
   ]
  },
  {
   "cell_type": "markdown",
   "metadata": {},
   "source": [
    "# Linear SVM"
   ]
  },
  {
   "cell_type": "code",
   "execution_count": 75,
   "metadata": {
    "collapsed": true
   },
   "outputs": [],
   "source": [
    "from sklearn import svm\n",
    "\n",
    "# Build linear SVC\n",
    "svc_linear = svm.SVC(kernel='linear')\n",
    "params_linear = np.logspace(-6, 6, 20)"
   ]
  },
  {
   "cell_type": "code",
   "execution_count": 76,
   "metadata": {
    "collapsed": true
   },
   "outputs": [],
   "source": [
    "# Perform cross-validation and find optimal C value\n",
    "scores_linear = []\n",
    "for i in params_linear:\n",
    "    svc_linear.C = i\n",
    "    scores = cross_val_score(svc_linear, x, y, cv=5)\n",
    "    scores_linear.append(1 - np.mean(scores))\n",
    "\n",
    "index_linear = scores_linear.index(min(scores_linear))\n",
    "C_linear = params_linear[index_linear]"
   ]
  },
  {
   "cell_type": "code",
   "execution_count": 77,
   "metadata": {},
   "outputs": [
    {
     "data": {
      "image/png": "[encoded data removed]",
      "text/plain": [
       "<matplotlib.figure.Figure at 0xfd9c7b8>"
      ]
     },
     "metadata": {},
     "output_type": "display_data"
    },
    {
     "data": {
      "image/png": "[encoded data removed]",
      "text/plain": [
       "<matplotlib.figure.Figure at 0xfeffb70>"
      ]
     },
     "metadata": {},
     "output_type": "display_data"
    }
   ],
   "source": [
    "# Plot cross-validation error\n",
    "plt.plot(params_linear[:14], scores_linear[:14])\n",
    "plt.xlabel('')\n",
    "plt.ylabel('Cross-Validation Error')\n",
    "plt.title('All C Values')\n",
    "plt.show()\n",
    "\n",
    "plt.plot(params_linear, scores_linear)\n",
    "plt.xlabel('Log Scaled C')\n",
    "plt.ylabel('Cross-Validation Error')\n",
    "plt.title('All C Values Log Scale')\n",
    "plt.xscale('log')\n",
    "plt.show()"
   ]
  },
  {
   "cell_type": "code",
   "execution_count": 78,
   "metadata": {},
   "outputs": [
    {
     "data": {
      "text/plain": [
       "SVC(C=162.37767391887175, cache_size=200, class_weight=None, coef0=0.0,\n",
       "  decision_function_shape=None, degree=3, gamma='auto', kernel='linear',\n",
       "  max_iter=-1, probability=False, random_state=None, shrinking=True,\n",
       "  tol=0.001, verbose=False)"
      ]
     },
     "execution_count": 78,
     "metadata": {},
     "output_type": "execute_result"
    }
   ],
   "source": [
    "# Fit linear SVM\n",
    "svc_linear = svm.SVC(C=C_linear, kernel='linear')\n",
    "svc_linear.fit(x_train, y_train)"
   ]
  },
  {
   "cell_type": "code",
   "execution_count": 79,
   "metadata": {},
   "outputs": [
    {
     "name": "stdout",
     "output_type": "stream",
     "text": [
      "Accuracy:  0.95\n",
      "\n",
      "Hyperparamater (C) =  162.377673919\n",
      "Min CV Error:  0.0841252509598\n",
      "Intercept:  [-2.06624396]\n",
      "Coefficients: \n",
      "           Features  Coefficients\n",
      "0             Fresh     -0.182482\n",
      "1              Milk      4.797425\n",
      "2           Grocery      4.181490\n",
      "3            Frozen     -2.014606\n",
      "4  Detergents_Paper     20.456078\n",
      "5        Delicassen     -5.774796\n",
      "6            Lisbon     -0.630617\n",
      "7            Oporto      0.425345\n",
      "8             Other      0.205272\n",
      "0.95\n"
     ]
    }
   ],
   "source": [
    "# Extract model data\n",
    "svc_linear_coef = svc_linear.coef_.tolist()\n",
    "features = x.columns.tolist()\n",
    "svc_linear_params = pd.DataFrame()\n",
    "svc_linear_params['Features'] = pd.Series(features)\n",
    "svc_linear_params['Coefficients'] = pd.Series(svc_linear_coef[0])\n",
    "\n",
    "m = svc_linear.predict(x_test)\n",
    "print 'Accuracy: ', metrics.accuracy_score(y_test, m)\n",
    "\n",
    "print ''\n",
    "\n",
    "print 'Hyperparamater (C) = ', C_linear\n",
    "print 'Min CV Error: ', min(scores_linear)\n",
    "print 'Intercept: ', svc_linear.intercept_\n",
    "print 'Coefficients: '\n",
    "print svc_linear_params\n",
    "m = svc_linear.predict(x_test)\n",
    "print metrics.accuracy_score(y_test, m)"
   ]
  },
  {
   "cell_type": "markdown",
   "metadata": {},
   "source": [
    "# Polynomial SVM"
   ]
  },
  {
   "cell_type": "code",
   "execution_count": 80,
   "metadata": {
    "collapsed": true
   },
   "outputs": [],
   "source": [
    "# Build polynomial svm\n",
    "svc_poly = svm.SVC(kernel='poly')\n",
    "params_poly = np.array(range(0,10))"
   ]
  },
  {
   "cell_type": "code",
   "execution_count": 81,
   "metadata": {
    "collapsed": true
   },
   "outputs": [],
   "source": [
    "# Perform cross-validation over polynomial degrees with constant C value\n",
    "scores_poly = []\n",
    "for i in params_poly:\n",
    "    svc_poly.degree = i\n",
    "    svc_poly.C = C_linear\n",
    "    scores = cross_val_score(svc_poly, x, y, cv=5)\n",
    "    scores_poly.append(1 - np.mean(scores))\n",
    "\n",
    "index_poly = scores_poly.index(min(scores_poly))\n",
    "optimal_poly = params_poly[index_poly]\n",
    "\n",
    "# Perform cross-validation over C values with constant optimal polynomial degree\n",
    "scores_C = []\n",
    "for i in params_linear:\n",
    "    svc_poly.degree = 1\n",
    "    svc_poly.C = i\n",
    "    scores = cross_val_score(svc_poly, x, y, cv=5)\n",
    "    scores_C.append(1 - np.mean(scores))\n",
    "\n",
    "index_C = scores_C.index(min(scores_C))\n",
    "C_poly = params_linear[index_C]"
   ]
  },
  {
   "cell_type": "code",
   "execution_count": 82,
   "metadata": {},
   "outputs": [
    {
     "data": {
      "image/png": "[encoded data removed]",
      "text/plain": [
       "<matplotlib.figure.Figure at 0xe297668>"
      ]
     },
     "metadata": {},
     "output_type": "display_data"
    },
    {
     "data": {
      "image/png": "[encoded data removed]",
      "text/plain": [
       "<matplotlib.figure.Figure at 0xe4f09e8>"
      ]
     },
     "metadata": {},
     "output_type": "display_data"
    }
   ],
   "source": [
    "# Plot cross-validation error\n",
    "plt.plot(params_poly, scores_poly[:10])\n",
    "plt.xlabel('All Degree Values')\n",
    "plt.ylabel('Cross-Validation Error')\n",
    "plt.title('Degree Values (Constant C)')\n",
    "plt.show()\n",
    "\n",
    "plt.plot(params_linear, scores_linear)\n",
    "plt.xlabel('All C Values')\n",
    "plt.ylabel('Cross-Validation Error')\n",
    "plt.title('Log Scaled C Values (Constant Degree (1))')\n",
    "plt.xscale('log')\n",
    "plt.show()"
   ]
  },
  {
   "cell_type": "code",
   "execution_count": 83,
   "metadata": {},
   "outputs": [
    {
     "data": {
      "text/plain": [
       "SVC(C=162.37767391887175, cache_size=200, class_weight=None, coef0=0.0,\n",
       "  decision_function_shape=None, degree=3, gamma='auto', kernel='poly',\n",
       "  max_iter=-1, probability=False, random_state=None, shrinking=True,\n",
       "  tol=0.001, verbose=False)"
      ]
     },
     "execution_count": 83,
     "metadata": {},
     "output_type": "execute_result"
    }
   ],
   "source": [
    "# Fit polynomial SVM\n",
    "svc_poly = svm.SVC(C=C_poly, kernel='poly')\n",
    "svc_poly.fit(x_train, y_train)"
   ]
  },
  {
   "cell_type": "code",
   "execution_count": 84,
   "metadata": {},
   "outputs": [
    {
     "name": "stdout",
     "output_type": "stream",
     "text": [
      "Accuracy:  0.83\n",
      "\n",
      "Hyperparamater (Degree) =  1\n",
      "Hyperparamater (C) =  162.377673919\n",
      "Min CV Error:  0.0819297195121\n",
      "Coefficients are non-recoverable in SVM with non-linear kernel.\n"
     ]
    }
   ],
   "source": [
    "# Extract model data\n",
    "m = svc_poly.predict(x_test)\n",
    "print 'Accuracy: ', metrics.accuracy_score(y_test, m)\n",
    "\n",
    "print ''\n",
    "\n",
    "print 'Hyperparamater (Degree) = ', optimal_poly\n",
    "print 'Hyperparamater (C) = ', C_poly\n",
    "print 'Min CV Error: ', min(scores_poly)\n",
    "print 'Coefficients are non-recoverable in SVM with non-linear kernel.'"
   ]
  },
  {
   "cell_type": "markdown",
   "metadata": {},
   "source": [
    "# Gaussian SVM"
   ]
  },
  {
   "cell_type": "code",
   "execution_count": 85,
   "metadata": {
    "collapsed": true
   },
   "outputs": [],
   "source": [
    "# Build Gaussian svm\n",
    "svc_gamma = svm.SVC(kernel='rbf')\n",
    "params_gamma = np.arange(.2, 5, .2).tolist()"
   ]
  },
  {
   "cell_type": "code",
   "execution_count": 86,
   "metadata": {
    "collapsed": true
   },
   "outputs": [],
   "source": [
    "# Perform cross-validation with constant C and find optimal gamma value\n",
    "scores_gamma = []\n",
    "for i in params_gamma:\n",
    "    svc_gamma.C = C_linear\n",
    "    svc_gamma.gamma = i\n",
    "    scores = cross_val_score(svc_gamma, x, y, cv=5)\n",
    "    scores_gamma.append(1 - np.mean(scores))\n",
    "\n",
    "index_gamma = scores_gamma.index(min(scores_gamma))\n",
    "optimal_gamma = params_gamma[index_gamma]\n",
    "\n",
    "# Perform cross-validation over C values with constant optimal gamma value\n",
    "scores_C = []\n",
    "for i in params_linear:\n",
    "    svc_gamma.gamma = optimal_gamma\n",
    "    svc_gamma.C = i\n",
    "    scores = cross_val_score(svc_gamma, x, y, cv=5)\n",
    "    scores_C.append(1 - np.mean(scores))\n",
    "\n",
    "index_C = scores_C.index(min(scores_C))\n",
    "C_gamma = params_linear[index_C]"
   ]
  },
  {
   "cell_type": "code",
   "execution_count": 92,
   "metadata": {},
   "outputs": [
    {
     "data": {
      "image/png": "[encoded data removed]",
      "text/plain": [
       "<matplotlib.figure.Figure at 0xfd96278>"
      ]
     },
     "metadata": {},
     "output_type": "display_data"
    },
    {
     "data": {
      "image/png": "[encoded data removed]",
      "text/plain": [
       "<matplotlib.figure.Figure at 0x1013cf60>"
      ]
     },
     "metadata": {},
     "output_type": "display_data"
    }
   ],
   "source": [
    "# Plot cross-validation error\n",
    "plt.plot(params_gamma[:14], scores_gamma[:14])\n",
    "plt.xlabel('All Gamma Values')\n",
    "plt.ylabel('Cross-Validation Error')\n",
    "plt.title('Gamma Values (Constant C (Optimal))')\n",
    "plt.show()\n",
    "\n",
    "plt.plot(params_linear, scores_C)\n",
    "plt.xlabel('Log Scaled C Values')\n",
    "plt.ylabel('Cross-Validation Error')\n",
    "plt.title('C Values (Constant Gamma (Optimal))')\n",
    "plt.xscale('log')\n",
    "plt.show()"
   ]
  },
  {
   "cell_type": "code",
   "execution_count": 88,
   "metadata": {},
   "outputs": [
    {
     "data": {
      "text/plain": [
       "SVC(C=162.37767391887175, cache_size=200, class_weight=None, coef0=0.0,\n",
       "  decision_function_shape=None, degree=3, gamma='auto', kernel='rbf',\n",
       "  max_iter=-1, probability=False, random_state=None, shrinking=True,\n",
       "  tol=0.001, verbose=False)"
      ]
     },
     "execution_count": 88,
     "metadata": {},
     "output_type": "execute_result"
    }
   ],
   "source": [
    "# Fit gaussian SVM\n",
    "svc_gamma = svm.SVC(C=C_gamma, kernel='rbf')\n",
    "svc_gamma.fit(x_train, y_train)"
   ]
  },
  {
   "cell_type": "code",
   "execution_count": 89,
   "metadata": {},
   "outputs": [
    {
     "name": "stdout",
     "output_type": "stream",
     "text": [
      "Accuracy:  0.96\n",
      "\n",
      "Hyperparamater (Gamma) =  0.2\n",
      "Hyperparamater (C) =  162.377673919\n",
      "Min CV Error:  0.0841513742618\n",
      "Coefficients are non-recoverable in SVM with non-linear kernel.\n"
     ]
    }
   ],
   "source": [
    "# Exctract model data\n",
    "m = svc_gamma.predict(x_test)\n",
    "print 'Accuracy: ', metrics.accuracy_score(y_test, m)\n",
    "\n",
    "print ''\n",
    "\n",
    "print 'Hyperparamater (Gamma) = ', optimal_gamma\n",
    "print 'Hyperparamater (C) = ', C_gamma\n",
    "print 'Min CV Error: ', min(scores_gamma)\n",
    "print 'Coefficients are non-recoverable in SVM with non-linear kernel.'"
   ]
  },
  {
   "cell_type": "markdown",
   "metadata": {
    "collapsed": true
   },
   "source": [
    "## Conclution\n",
    "* Depending on the random ordering of the data before it is split into training and testing sets, each model's accuracy varies a bit with this is a smaller data set. However, since the data appears to be distributed in not too complex of a manner, the scoring between the models is fairly similar when multiple trials are averaged out. With this, the Linear SVM stands out as the reasonable choice. Notice that through cross-validation the Polynomial SVM was actually tuned to essentially be linear since its optimal degree was determined to be 1."
   ]
  }
 ],
 "metadata": {
  "kernelspec": {
   "display_name": "Python 2",
   "language": "python",
   "name": "python2"
  },
  "language_info": {
   "codemirror_mode": {
    "name": "ipython",
    "version": 2
   },
   "file_extension": ".py",
   "mimetype": "text/x-python",
   "name": "python",
   "nbconvert_exporter": "python",
   "pygments_lexer": "ipython2",
   "version": "2.7.13"
  }
 },
 "nbformat": 4,
 "nbformat_minor": 2
}
